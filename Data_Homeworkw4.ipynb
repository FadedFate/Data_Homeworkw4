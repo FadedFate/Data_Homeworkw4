{
 "cells": [
  {
   "cell_type": "markdown",
   "metadata": {},
   "source": [
    "## <center> 数据挖掘第四次课程作业 <center>\n",
    "####     <p style=\"text-align:right\"> 吴嘉豪   _3220190894_ </p>\n",
    "## 数据异常点检测 \n",
    "### 1. python库引入"
   ]
  },
  {
   "cell_type": "code",
   "execution_count": 1,
   "metadata": {},
   "outputs": [],
   "source": [
    "import numpy as np\n",
    "import matplotlib.pyplot as plt\n",
    "import pandas as pd\n",
    "from pyod.models.pca import PCA\n",
    "from pyod.models.knn import KNN\n",
    "from pyod.models.lof import LOF\n",
    "from pyod.models.iforest import IForest\n",
    "import sys\n",
    "import os"
   ]
  },
  {
   "cell_type": "markdown",
   "metadata": {},
   "source": [
    "## 2. 处理数据集 "
   ]
  },
  {
   "cell_type": "markdown",
   "metadata": {},
   "source": [
    "__1. 数据集分析 - skin_benchmarks:__   \n",
    "该数据集中包含多条skin_point的数据记录，数据中给出了skin_point所对应的RGB数值，并且由GT于origin.label提供了每一条记录点是否为异常点的记录。"
   ]
  },
  {
   "cell_type": "code",
   "execution_count": 2,
   "metadata": {},
   "outputs": [
    {
     "name": "stdout",
     "output_type": "stream",
     "text": [
      "Skin point shape :  (245057, 4)\n"
     ]
    },
    {
     "data": {
      "text/html": [
       "<div>\n",
       "<style scoped>\n",
       "    .dataframe tbody tr th:only-of-type {\n",
       "        vertical-align: middle;\n",
       "    }\n",
       "\n",
       "    .dataframe tbody tr th {\n",
       "        vertical-align: top;\n",
       "    }\n",
       "\n",
       "    .dataframe thead th {\n",
       "        text-align: right;\n",
       "    }\n",
       "</style>\n",
       "<table border=\"1\" class=\"dataframe\">\n",
       "  <thead>\n",
       "    <tr style=\"text-align: right;\">\n",
       "      <th></th>\n",
       "      <th>Y</th>\n",
       "      <th>R</th>\n",
       "      <th>G</th>\n",
       "      <th>B</th>\n",
       "    </tr>\n",
       "  </thead>\n",
       "  <tbody>\n",
       "    <tr>\n",
       "      <th>0</th>\n",
       "      <td>1</td>\n",
       "      <td>74</td>\n",
       "      <td>85</td>\n",
       "      <td>123</td>\n",
       "    </tr>\n",
       "    <tr>\n",
       "      <th>1</th>\n",
       "      <td>1</td>\n",
       "      <td>73</td>\n",
       "      <td>84</td>\n",
       "      <td>122</td>\n",
       "    </tr>\n",
       "    <tr>\n",
       "      <th>2</th>\n",
       "      <td>1</td>\n",
       "      <td>72</td>\n",
       "      <td>83</td>\n",
       "      <td>121</td>\n",
       "    </tr>\n",
       "    <tr>\n",
       "      <th>3</th>\n",
       "      <td>1</td>\n",
       "      <td>70</td>\n",
       "      <td>81</td>\n",
       "      <td>119</td>\n",
       "    </tr>\n",
       "    <tr>\n",
       "      <th>4</th>\n",
       "      <td>1</td>\n",
       "      <td>70</td>\n",
       "      <td>81</td>\n",
       "      <td>119</td>\n",
       "    </tr>\n",
       "  </tbody>\n",
       "</table>\n",
       "</div>"
      ],
      "text/plain": [
       "   Y   R   G    B\n",
       "0  1  74  85  123\n",
       "1  1  73  84  122\n",
       "2  1  72  83  121\n",
       "3  1  70  81  119\n",
       "4  1  70  81  119"
      ]
     },
     "execution_count": 2,
     "metadata": {},
     "output_type": "execute_result"
    }
   ],
   "source": [
    "data = pd.read_csv(r\"F:\\course\\web\\homework4\\homework4\\skin\\meta_data\\skin.original.csv\")\n",
    "print(\"Skin point shape : \" , data.shape)\n",
    "data.head()"
   ]
  },
  {
   "cell_type": "markdown",
   "metadata": {},
   "source": [
    "由上面的数据读取可以看出，鉴于处理效率，仅在实验中使用了该数据总计包括245057条数据，在这里我们提取器中的R\\G\\B三种属性作为属性值，同时提取label列中的值(0/1)作为Ground Truth，进行数据点异常的判断。选取的方法包括：LOF(Proximity) / "
   ]
  },
  {
   "cell_type": "code",
   "execution_count": 3,
   "metadata": {},
   "outputs": [
    {
     "name": "stdout",
     "output_type": "stream",
     "text": [
      "数据及污染程度: 0.2618925014675743\n",
      "Dataset shape: (171539, 3) (73518, 3)\n",
      "Label shape: (171539,) (73518,)\n"
     ]
    }
   ],
   "source": [
    "seqset = data[[\"R\",\"G\",\"B\"]]\n",
    "labelset = data[\"Y\"]\n",
    "seq = seqset.values\n",
    "label = 2 - labelset.values \n",
    "\n",
    "# Method 1  'kNN'\n",
    "import random\n",
    "from sklearn import preprocessing\n",
    "from sklearn.utils import shuffle\n",
    "seq,label = shuffle(seq,label)\n",
    "contamination = sum(label == 1) / sum(label == 0)\n",
    "print(\"数据及污染程度:\" , contamination)\n",
    "\n",
    "dvlen = int(0.7 * len(seq))\n",
    "X_train = seq[:dvlen]\n",
    "X_test = seq[dvlen:]\n",
    "Y_train = label[:dvlen]\n",
    "Y_test = label[dvlen:]\n",
    "print(\"Dataset shape:\",X_train.shape , X_test.shape)\n",
    "print(\"Label shape:\",Y_train.shape , Y_test.shape)\n",
    "\n",
    "# 标准化\n",
    "scaler = preprocessing.StandardScaler().fit(X_train)\n",
    "X_train = scaler.transform(X_train)\n",
    "X_test = scaler.transform(X_test)"
   ]
  },
  {
   "cell_type": "code",
   "execution_count": 4,
   "metadata": {
    "scrolled": true
   },
   "outputs": [
    {
     "name": "stdout",
     "output_type": "stream",
     "text": [
      "\n",
      "On Training Data:\n",
      "KNN ROC:0.6693, precision @ rank n:0.2791\n",
      "\n",
      "On Test Data:\n",
      "KNN ROC:0.6687, precision @ rank n:0.2742\n"
     ]
    }
   ],
   "source": [
    "from pyod.utils.data import evaluate_print\n",
    "\n",
    "contamination = 0.25\n",
    "# clf = KNN(n_neighbors = 30 , method='median', metric = 'cityblock') \n",
    "clf = KNN(contamination = contamination , n_neighbors = 10) \n",
    "clf.fit(X_train) # 使用X_train训练检测器clf\n",
    "\n",
    "# 返回训练数据X_train上的异常标签和异常分值\n",
    "y_train_pred = clf.labels_ \n",
    "y_train_scores = clf.decision_scores_ \n",
    "\n",
    "# 用训练好的clf来预测未知数据中的异常值\n",
    "y_test_pred = clf.predict(X_test) \n",
    "y_test_scores = clf.decision_function(X_test) \n",
    "\n",
    "# 输出评估结果\n",
    "print(\"\\nOn Training Data:\")\n",
    "evaluate_print(\"KNN\", Y_train, y_train_scores)\n",
    "print(\"\\nOn Test Data:\")\n",
    "evaluate_print(\"KNN\", Y_test, y_test_scores)"
   ]
  },
  {
   "cell_type": "code",
   "execution_count": 5,
   "metadata": {},
   "outputs": [
    {
     "name": "stdout",
     "output_type": "stream",
     "text": [
      "\n",
      "On Training Data:\n",
      "Method_LOF ROC:0.5684, precision @ rank n:0.2786\n",
      "\n",
      "On Test Data:\n",
      "Method_LOF ROC:0.5709, precision @ rank n:0.272\n"
     ]
    }
   ],
   "source": [
    "# Method 2  LOF\n",
    "C_LOF = LOF(contamination = contamination) \n",
    "C_LOF.fit(X_train)# 使用X_train训练检测器clf\n",
    "\n",
    "# 返回训练数据X_train上的异常标签和异常分值\n",
    "y_train_pred = C_LOF.labels_ \n",
    "y_train_scores = C_LOF.decision_scores_ \n",
    "\n",
    "# 用训练好的clf来预测未知数据中的异常值\n",
    "y_test_pred = C_LOF.predict(X_test) \n",
    "y_test_scores = C_LOF.decision_function(X_test) \n",
    "\n",
    "# 输出评估结果\n",
    "print(\"\\nOn Training Data:\")\n",
    "evaluate_print(\"Method_LOF\", Y_train, y_train_scores)\n",
    "print(\"\\nOn Test Data:\")\n",
    "evaluate_print(\"Method_LOF\", Y_test, y_test_scores)"
   ]
  },
  {
   "cell_type": "code",
   "execution_count": 6,
   "metadata": {},
   "outputs": [
    {
     "name": "stdout",
     "output_type": "stream",
     "text": [
      "\n",
      "On Training Data:\n",
      "Method_PCA ROC:0.1259, precision @ rank n:0.0036\n",
      "\n",
      "On Test Data:\n",
      "Method_PCA ROC:0.1267, precision @ rank n:0.0025\n"
     ]
    }
   ],
   "source": [
    "# Method 3  PCA\n",
    "C_PCA = PCA(n_components = 2, contamination = contamination) \n",
    "C_PCA.fit(X_train) # 使用X_train训练检测器clf\n",
    "\n",
    "# 返回训练数据X_train上的异常标签和异常分值\n",
    "y_train_pred = C_PCA.labels_ \n",
    "y_train_scores = C_PCA.decision_scores_ \n",
    "\n",
    "# 用训练好的clf来预测未知数据中的异常值\n",
    "y_test_pred = C_PCA.predict(X_test) \n",
    "y_test_scores = C_PCA.decision_function(X_test) \n",
    "\n",
    "# 输出评估结果\n",
    "print(\"\\nOn Training Data:\")\n",
    "evaluate_print(\"Method_PCA\", Y_train, y_train_scores)\n",
    "print(\"\\nOn Test Data:\")\n",
    "evaluate_print(\"Method_PCA\", Y_test, y_test_scores)"
   ]
  },
  {
   "cell_type": "code",
   "execution_count": 7,
   "metadata": {},
   "outputs": [
    {
     "name": "stdout",
     "output_type": "stream",
     "text": [
      "\n",
      "On Training Data:\n",
      "Method_IForest ROC:0.6641, precision @ rank n:0.0982\n",
      "\n",
      "On Test Data:\n",
      "Method_IForest ROC:0.6643, precision @ rank n:0.0935\n"
     ]
    }
   ],
   "source": [
    "# Method 4 IForest\n",
    "C_IForest = IForest(contamination = contamination,n_estimators = 1000) \n",
    "C_IForest.fit(X_train) # 使用X_train训练检测器clf\n",
    "\n",
    "# 返回训练数据X_train上的异常标签和异常分值\n",
    "y_train_pred = C_IForest.labels_ \n",
    "y_train_scores = C_IForest.decision_scores_ \n",
    "\n",
    "# 用训练好的clf来预测未知数据中的异常值\n",
    "y_test_pred = C_IForest.predict(X_test) \n",
    "y_test_scores = C_IForest.decision_function(X_test) \n",
    "\n",
    "# 输出评估结果\n",
    "print(\"\\nOn Training Data:\")\n",
    "evaluate_print(\"Method_IForest\", Y_train, y_train_scores)\n",
    "print(\"\\nOn Test Data:\")\n",
    "evaluate_print(\"Method_IForest\", Y_test, y_test_scores)"
   ]
  },
  {
   "cell_type": "markdown",
   "metadata": {},
   "source": [
    "从上面尝试的及几种方法来看，总体来说KNN与IForest的表现结果最好，相应的其计算异常点的消耗时间也更长，而PCA的表现分类结果不好，这里我认为可能是因为Skin的属性仅仅是三维数据，因而PCA将为并不能有效地进行异常点监测的缘故。"
   ]
  },
  {
   "cell_type": "markdown",
   "metadata": {},
   "source": [
    "__2. 数据集分析 - pageb_benchmarks:__   \n",
    "该数据集中包含多条pageb_point的数据记录，数据中给出了pageb所对应的十维属性数值，并且由ground.truth属性提供了每一条记录点是否为异常点的记录。"
   ]
  },
  {
   "cell_type": "code",
   "execution_count": 8,
   "metadata": {},
   "outputs": [
    {
     "name": "stdout",
     "output_type": "stream",
     "text": [
      "Pageb_origin dataset:  (5473, 15)\n"
     ]
    },
    {
     "data": {
      "text/html": [
       "<div>\n",
       "<style scoped>\n",
       "    .dataframe tbody tr th:only-of-type {\n",
       "        vertical-align: middle;\n",
       "    }\n",
       "\n",
       "    .dataframe tbody tr th {\n",
       "        vertical-align: top;\n",
       "    }\n",
       "\n",
       "    .dataframe thead th {\n",
       "        text-align: right;\n",
       "    }\n",
       "</style>\n",
       "<table border=\"1\" class=\"dataframe\">\n",
       "  <thead>\n",
       "    <tr style=\"text-align: right;\">\n",
       "      <th></th>\n",
       "      <th>point.id</th>\n",
       "      <th>motherset</th>\n",
       "      <th>origin</th>\n",
       "      <th>original.label</th>\n",
       "      <th>ground.truth</th>\n",
       "      <th>V</th>\n",
       "      <th>V.1</th>\n",
       "      <th>V.2</th>\n",
       "      <th>V.3</th>\n",
       "      <th>V.4</th>\n",
       "      <th>V.5</th>\n",
       "      <th>V.6</th>\n",
       "      <th>V.7</th>\n",
       "      <th>V.8</th>\n",
       "      <th>V.9</th>\n",
       "    </tr>\n",
       "  </thead>\n",
       "  <tbody>\n",
       "    <tr>\n",
       "      <th>0</th>\n",
       "      <td>pageb_point_0001</td>\n",
       "      <td>pageb</td>\n",
       "      <td>multiclass</td>\n",
       "      <td>1</td>\n",
       "      <td>nominal</td>\n",
       "      <td>-0.288664</td>\n",
       "      <td>-0.719726</td>\n",
       "      <td>-0.239908</td>\n",
       "      <td>-0.402361</td>\n",
       "      <td>0.176407</td>\n",
       "      <td>-0.750332</td>\n",
       "      <td>-0.056302</td>\n",
       "      <td>-0.277038</td>\n",
       "      <td>-0.381667</td>\n",
       "      <td>-0.601661</td>\n",
       "    </tr>\n",
       "    <tr>\n",
       "      <th>1</th>\n",
       "      <td>pageb_point_0002</td>\n",
       "      <td>pageb</td>\n",
       "      <td>multiclass</td>\n",
       "      <td>1</td>\n",
       "      <td>nominal</td>\n",
       "      <td>-0.235923</td>\n",
       "      <td>-0.719726</td>\n",
       "      <td>-0.238465</td>\n",
       "      <td>-0.409949</td>\n",
       "      <td>0.339552</td>\n",
       "      <td>0.562209</td>\n",
       "      <td>-0.037917</td>\n",
       "      <td>-0.273889</td>\n",
       "      <td>-0.374226</td>\n",
       "      <td>-0.607638</td>\n",
       "    </tr>\n",
       "    <tr>\n",
       "      <th>2</th>\n",
       "      <td>pageb_point_0003</td>\n",
       "      <td>pageb</td>\n",
       "      <td>multiclass</td>\n",
       "      <td>1</td>\n",
       "      <td>nominal</td>\n",
       "      <td>-0.235923</td>\n",
       "      <td>-0.623842</td>\n",
       "      <td>-0.224855</td>\n",
       "      <td>-0.350250</td>\n",
       "      <td>-0.459293</td>\n",
       "      <td>-0.258129</td>\n",
       "      <td>-0.025902</td>\n",
       "      <td>-0.263656</td>\n",
       "      <td>-0.351372</td>\n",
       "      <td>-0.595684</td>\n",
       "    </tr>\n",
       "    <tr>\n",
       "      <th>3</th>\n",
       "      <td>pageb_point_0004</td>\n",
       "      <td>pageb</td>\n",
       "      <td>multiclass</td>\n",
       "      <td>1</td>\n",
       "      <td>nominal</td>\n",
       "      <td>-0.288664</td>\n",
       "      <td>-0.719726</td>\n",
       "      <td>-0.239908</td>\n",
       "      <td>-0.402361</td>\n",
       "      <td>0.013263</td>\n",
       "      <td>-0.246410</td>\n",
       "      <td>-0.027350</td>\n",
       "      <td>-0.277825</td>\n",
       "      <td>-0.380073</td>\n",
       "      <td>-0.619592</td>\n",
       "    </tr>\n",
       "    <tr>\n",
       "      <th>4</th>\n",
       "      <td>pageb_point_0005</td>\n",
       "      <td>pageb</td>\n",
       "      <td>multiclass</td>\n",
       "      <td>1</td>\n",
       "      <td>nominal</td>\n",
       "      <td>-0.235923</td>\n",
       "      <td>-0.754593</td>\n",
       "      <td>-0.243414</td>\n",
       "      <td>-0.431673</td>\n",
       "      <td>0.738974</td>\n",
       "      <td>0.931362</td>\n",
       "      <td>-0.057460</td>\n",
       "      <td>-0.280974</td>\n",
       "      <td>-0.384856</td>\n",
       "      <td>-0.613615</td>\n",
       "    </tr>\n",
       "  </tbody>\n",
       "</table>\n",
       "</div>"
      ],
      "text/plain": [
       "           point.id motherset      origin  original.label ground.truth  \\\n",
       "0  pageb_point_0001     pageb  multiclass               1      nominal   \n",
       "1  pageb_point_0002     pageb  multiclass               1      nominal   \n",
       "2  pageb_point_0003     pageb  multiclass               1      nominal   \n",
       "3  pageb_point_0004     pageb  multiclass               1      nominal   \n",
       "4  pageb_point_0005     pageb  multiclass               1      nominal   \n",
       "\n",
       "          V       V.1       V.2       V.3       V.4       V.5       V.6  \\\n",
       "0 -0.288664 -0.719726 -0.239908 -0.402361  0.176407 -0.750332 -0.056302   \n",
       "1 -0.235923 -0.719726 -0.238465 -0.409949  0.339552  0.562209 -0.037917   \n",
       "2 -0.235923 -0.623842 -0.224855 -0.350250 -0.459293 -0.258129 -0.025902   \n",
       "3 -0.288664 -0.719726 -0.239908 -0.402361  0.013263 -0.246410 -0.027350   \n",
       "4 -0.235923 -0.754593 -0.243414 -0.431673  0.738974  0.931362 -0.057460   \n",
       "\n",
       "        V.7       V.8       V.9  \n",
       "0 -0.277038 -0.381667 -0.601661  \n",
       "1 -0.273889 -0.374226 -0.607638  \n",
       "2 -0.263656 -0.351372 -0.595684  \n",
       "3 -0.277825 -0.380073 -0.619592  \n",
       "4 -0.280974 -0.384856 -0.613615  "
      ]
     },
     "execution_count": 8,
     "metadata": {},
     "output_type": "execute_result"
    }
   ],
   "source": [
    "from time import *\n",
    "data = pd.read_csv(r\"F:\\course\\web\\homework4\\homework4\\pageb\\meta_data\\pageb.preproc.csv\")\n",
    "print(\"Pageb_origin dataset: \" , data.shape)\n",
    "data.head()"
   ]
  },
  {
   "cell_type": "code",
   "execution_count": 21,
   "metadata": {},
   "outputs": [
    {
     "name": "stdout",
     "output_type": "stream",
     "text": [
      "数据及污染程度: 0.11398330958681051\n",
      "Dataset shape: (4652, 10) (821, 10)\n",
      "Label shape: (4652,) (821,)\n"
     ]
    }
   ],
   "source": [
    "cols = [i for i in data.columns if i not in [\"motherset\",\"ground.truth\",\"point.id\",\"origin\",\"original.label\"]]\n",
    "seqset = data[cols]\n",
    "labelset = data[\"ground.truth\"]\n",
    "seq = seqset.values\n",
    "label = np.where(labelset == \"nominal\" , 0 ,1)\n",
    "\n",
    "# Method 1  'kNN'\n",
    "seq,label = shuffle(seq,label)\n",
    "contamination = sum(label == 1) / sum(label == 0)\n",
    "print(\"数据及污染程度:\" , contamination)\n",
    "\n",
    "dvlen = int(0.85 * len(seq))\n",
    "X_train = seq[:dvlen]\n",
    "X_test = seq[dvlen:]\n",
    "Y_train = label[:dvlen]\n",
    "Y_test = label[dvlen:]\n",
    "print(\"Dataset shape:\",X_train.shape , X_test.shape)\n",
    "print(\"Label shape:\",Y_train.shape , Y_test.shape)\n",
    "\n",
    "# 标准化\n",
    "# scaler = preprocessing.StandardScaler().fit(X_train)\n",
    "# X_train = scaler.transform(X_train)\n",
    "# X_test = scaler.transform(X_test)"
   ]
  },
  {
   "cell_type": "code",
   "execution_count": 22,
   "metadata": {},
   "outputs": [
    {
     "name": "stdout",
     "output_type": "stream",
     "text": [
      "\n",
      "On Training Data:\n",
      "KNN ROC:0.8131, precision @ rank n:0.4544\n",
      "\n",
      "On Test Data:\n",
      "KNN ROC:0.7957, precision @ rank n:0.4494\n",
      "运行时间： 0.46399998664855957\n"
     ]
    }
   ],
   "source": [
    "# KNN \n",
    "begin_time = time()\n",
    "contamination = 0.10\n",
    "# clf = KNN(n_neighbors = 30 , method='median', metric = 'cityblock') \n",
    "clf = KNN(contamination = contamination , n_neighbors = 30, metric = 'cityblock') \n",
    "clf.fit(X_train) # 使用X_train训练检测器clf\n",
    "\n",
    "# 返回训练数据X_train上的异常标签和异常分值\n",
    "y_train_pred = clf.labels_ \n",
    "y_train_scores = clf.decision_scores_ \n",
    "\n",
    "# 用训练好的clf来预测未知数据中的异常值\n",
    "y_test_pred = clf.predict(X_test) \n",
    "y_test_scores = clf.decision_function(X_test) \n",
    "\n",
    "# 输出评估结果\n",
    "print(\"\\nOn Training Data:\")\n",
    "evaluate_print(\"KNN\", Y_train, y_train_scores)\n",
    "print(\"\\nOn Test Data:\")\n",
    "evaluate_print(\"KNN\", Y_test, y_test_scores)\n",
    "end_time = time()\n",
    "run_time = end_time-begin_time\n",
    "print ('运行时间：',run_time)"
   ]
  },
  {
   "cell_type": "code",
   "execution_count": 23,
   "metadata": {},
   "outputs": [
    {
     "name": "stdout",
     "output_type": "stream",
     "text": [
      "\n",
      "On Training Data:\n",
      "Method_LOF ROC:0.7509, precision @ rank n:0.3503\n",
      "\n",
      "On Test Data:\n",
      "Method_LOF ROC:0.6988, precision @ rank n:0.3708\n",
      "运行时间： 0.35699987411499023\n"
     ]
    }
   ],
   "source": [
    "# Method 2  LOF\n",
    "begin_time = time()\n",
    "C_LOF = LOF(contamination = contamination) \n",
    "C_LOF.fit(X_train)# 使用X_train训练检测器clf\n",
    "\n",
    "# 返回训练数据X_train上的异常标签和异常分值\n",
    "y_train_pred = C_LOF.labels_ \n",
    "y_train_scores = C_LOF.decision_scores_ \n",
    "\n",
    "# 用训练好的clf来预测未知数据中的异常值\n",
    "y_test_pred = C_LOF.predict(X_test) \n",
    "y_test_scores = C_LOF.decision_function(X_test) \n",
    "\n",
    "# 输出评估结果\n",
    "print(\"\\nOn Training Data:\")\n",
    "evaluate_print(\"Method_LOF\", Y_train, y_train_scores)\n",
    "print(\"\\nOn Test Data:\")\n",
    "evaluate_print(\"Method_LOF\", Y_test, y_test_scores)\n",
    "end_time = time()\n",
    "run_time = end_time-begin_time\n",
    "print ('运行时间：',run_time)"
   ]
  },
  {
   "cell_type": "code",
   "execution_count": 24,
   "metadata": {
    "scrolled": true
   },
   "outputs": [
    {
     "name": "stdout",
     "output_type": "stream",
     "text": [
      "\n",
      "On Training Data:\n",
      "Method_PCA ROC:0.8923, precision @ rank n:0.4246\n",
      "\n",
      "On Test Data:\n",
      "Method_PCA ROC:0.8934, precision @ rank n:0.4719\n",
      "运行时间： 0.031999826431274414\n"
     ]
    }
   ],
   "source": [
    "# Method 3  PCA\n",
    "begin_time = time()\n",
    "C_PCA = PCA(n_components = 2, contamination = contamination) \n",
    "C_PCA.fit(X_train) # 使用X_train训练检测器clf\n",
    "\n",
    "# 返回训练数据X_train上的异常标签和异常分值\n",
    "y_train_pred = C_PCA.labels_ \n",
    "y_train_scores = C_PCA.decision_scores_ \n",
    "\n",
    "# 用训练好的clf来预测未知数据中的异常值\n",
    "y_test_pred = C_PCA.predict(X_test) \n",
    "y_test_scores = C_PCA.decision_function(X_test) \n",
    "\n",
    "# 输出评估结果\n",
    "print(\"\\nOn Training Data:\")\n",
    "evaluate_print(\"Method_PCA\", Y_train, y_train_scores)\n",
    "print(\"\\nOn Test Data:\")\n",
    "evaluate_print(\"Method_PCA\", Y_test, y_test_scores)\n",
    "end_time = time()\n",
    "run_time = end_time-begin_time\n",
    "print ('运行时间：',run_time)"
   ]
  },
  {
   "cell_type": "code",
   "execution_count": 27,
   "metadata": {},
   "outputs": [
    {
     "name": "stdout",
     "output_type": "stream",
     "text": [
      "\n",
      "On Training Data:\n",
      "Method_IForest ROC:0.8963, precision @ rank n:0.4055\n",
      "\n",
      "On Test Data:\n",
      "Method_IForest ROC:0.8876, precision @ rank n:0.4045\n",
      "运行时间： 2.071000099182129\n"
     ]
    }
   ],
   "source": [
    "# Method 4 IForest\n",
    "begin_time = time()\n",
    "C_IForest = IForest(contamination = contamination,n_estimators = 300) \n",
    "C_IForest.fit(X_train) # 使用X_train训练检测器clf\n",
    "\n",
    "# 返回训练数据X_train上的异常标签和异常分值\n",
    "y_train_pred = C_IForest.labels_ \n",
    "y_train_scores = C_IForest.decision_scores_ \n",
    "\n",
    "# 用训练好的clf来预测未知数据中的异常值\n",
    "y_test_pred = C_IForest.predict(X_test) \n",
    "y_test_scores = C_IForest.decision_function(X_test) \n",
    "\n",
    "# 输出评估结果\n",
    "print(\"\\nOn Training Data:\")\n",
    "evaluate_print(\"Method_IForest\", Y_train, y_train_scores)\n",
    "print(\"\\nOn Test Data:\")\n",
    "evaluate_print(\"Method_IForest\", Y_test, y_test_scores)\n",
    "end_time = time()\n",
    "run_time = end_time-begin_time\n",
    "print ('运行时间：',run_time)"
   ]
  },
  {
   "cell_type": "code",
   "execution_count": 28,
   "metadata": {},
   "outputs": [
    {
     "data": {
      "image/png": "[encoded data removed]",
      "text/plain": [
       "<Figure size 648x432 with 1 Axes>"
      ]
     },
     "metadata": {},
     "output_type": "display_data"
    },
    {
     "data": {
      "image/png": "[encoded data removed]",
      "text/plain": [
       "<Figure size 648x432 with 1 Axes>"
      ]
     },
     "metadata": {},
     "output_type": "display_data"
    }
   ],
   "source": [
    "plt.style.use('ggplot')\n",
    "plt.figure(figsize=(9,6))\n",
    "ROC = np.array([0.7957,0.6988,0.8934,0.8876])\n",
    "rank_n = np.array([0.4494 ,0.3708, 0.4719, 0.4045])\n",
    "name = [\"KNN\" , \"LOF\" , \"PCA\",\"IForest\"]\n",
    "perfomance = np.array([ROC , rank_n])\n",
    "time_c = np.array([0.46399998664855957, 0.35699987411499023,0.031999826431274414,2.071000099182129])\n",
    "for i in range(4):\n",
    "    plt.scatter(rank_n[i] ,ROC[i] , s = 120 ,marker = \"*\")\n",
    "plt.xlabel(\"rank_n\")\n",
    "plt.ylabel(\"ROC\")\n",
    "plt.xlim([0.35 , 0.6])\n",
    "plt.ylim([0.7 , 0.95])\n",
    "# plt.grid()\n",
    "plt.legend(name)\n",
    "plt.show()\n",
    "\n",
    "plt.figure(figsize=(9,6))\n",
    "plt.bar(name, time_c ,width=0.3)\n",
    "plt.xlabel(\"Method\")\n",
    "plt.ylabel(\"Time consuming\")\n",
    "# plt.grid()\n",
    "plt.show()"
   ]
  },
  {
   "cell_type": "markdown",
   "metadata": {},
   "source": [
    "从这里我们可以看出，在面对像pageb这样的更高位属性的时候，像PCA这样的方法则表现出了更好的异常点检测性能，比KNN与LOF这样的检测算法表现更好，然而基于类似Ensemble的IForest方法同样表现出了较好的异常点检测能力，然而这也代表着训练多个分支的时间消耗更长。"
   ]
  },
  {
   "cell_type": "markdown",
   "metadata": {},
   "source": [
    "__Github:__  https://github.com/FadedFate/Data_Homeworkw4"
   ]
  }
 ],
 "metadata": {
  "kernelspec": {
   "display_name": "Python 3",
   "language": "python",
   "name": "python3"
  },
  "language_info": {
   "codemirror_mode": {
    "name": "ipython",
    "version": 3
   },
   "file_extension": ".py",
   "mimetype": "text/x-python",
   "name": "python",
   "nbconvert_exporter": "python",
   "pygments_lexer": "ipython3",
   "version": "3.6.4"
  }
 },
 "nbformat": 4,
 "nbformat_minor": 2
}
